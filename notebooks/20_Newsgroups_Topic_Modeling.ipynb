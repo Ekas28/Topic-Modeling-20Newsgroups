{
  "nbformat": 4,
  "nbformat_minor": 0,
  "metadata": {
    "colab": {
      "provenance": []
    },
    "kernelspec": {
      "name": "python3",
      "display_name": "Python 3"
    },
    "language_info": {
      "name": "python"
    }
  },
  "cells": [
    {
      "cell_type": "code",
      "execution_count": null,
      "metadata": {
        "id": "llYKS_BTJyL0",
        "outputId": "65516974-bbd5-4a27-a24f-442f845e7873",
        "colab": {
          "base_uri": "https://localhost:8080/"
        },
        "collapsed": true
      },
      "outputs": [
        {
          "output_type": "stream",
          "name": "stdout",
          "text": [
            "Requirement already satisfied: gensim in /usr/local/lib/python3.11/dist-packages (4.3.3)\n",
            "Requirement already satisfied: pyLDAvis==2.1.2 in /usr/local/lib/python3.11/dist-packages (2.1.2)\n",
            "Requirement already satisfied: scikit-learn in /usr/local/lib/python3.11/dist-packages (1.6.1)\n",
            "Requirement already satisfied: wordcloud in /usr/local/lib/python3.11/dist-packages (1.9.4)\n",
            "Requirement already satisfied: wheel>=0.23.0 in /usr/local/lib/python3.11/dist-packages (from pyLDAvis==2.1.2) (0.45.1)\n",
            "Requirement already satisfied: numpy>=1.9.2 in /usr/local/lib/python3.11/dist-packages (from pyLDAvis==2.1.2) (1.26.4)\n",
            "Requirement already satisfied: scipy>=0.18.0 in /usr/local/lib/python3.11/dist-packages (from pyLDAvis==2.1.2) (1.13.1)\n",
            "Requirement already satisfied: pandas>=0.17.0 in /usr/local/lib/python3.11/dist-packages (from pyLDAvis==2.1.2) (2.2.2)\n",
            "Requirement already satisfied: joblib>=0.8.4 in /usr/local/lib/python3.11/dist-packages (from pyLDAvis==2.1.2) (1.5.1)\n",
            "Requirement already satisfied: jinja2>=2.7.2 in /usr/local/lib/python3.11/dist-packages (from pyLDAvis==2.1.2) (3.1.6)\n",
            "Requirement already satisfied: numexpr in /usr/local/lib/python3.11/dist-packages (from pyLDAvis==2.1.2) (2.11.0)\n",
            "Requirement already satisfied: pytest in /usr/local/lib/python3.11/dist-packages (from pyLDAvis==2.1.2) (8.4.1)\n",
            "Requirement already satisfied: future in /usr/local/lib/python3.11/dist-packages (from pyLDAvis==2.1.2) (1.0.0)\n",
            "Requirement already satisfied: funcy in /usr/local/lib/python3.11/dist-packages (from pyLDAvis==2.1.2) (2.0)\n",
            "Requirement already satisfied: smart-open>=1.8.1 in /usr/local/lib/python3.11/dist-packages (from gensim) (7.3.0.post1)\n",
            "Requirement already satisfied: threadpoolctl>=3.1.0 in /usr/local/lib/python3.11/dist-packages (from scikit-learn) (3.6.0)\n",
            "Requirement already satisfied: pillow in /usr/local/lib/python3.11/dist-packages (from wordcloud) (11.3.0)\n",
            "Requirement already satisfied: matplotlib in /usr/local/lib/python3.11/dist-packages (from wordcloud) (3.10.0)\n",
            "Requirement already satisfied: MarkupSafe>=2.0 in /usr/local/lib/python3.11/dist-packages (from jinja2>=2.7.2->pyLDAvis==2.1.2) (3.0.2)\n",
            "Requirement already satisfied: python-dateutil>=2.8.2 in /usr/local/lib/python3.11/dist-packages (from pandas>=0.17.0->pyLDAvis==2.1.2) (2.9.0.post0)\n",
            "Requirement already satisfied: pytz>=2020.1 in /usr/local/lib/python3.11/dist-packages (from pandas>=0.17.0->pyLDAvis==2.1.2) (2025.2)\n",
            "Requirement already satisfied: tzdata>=2022.7 in /usr/local/lib/python3.11/dist-packages (from pandas>=0.17.0->pyLDAvis==2.1.2) (2025.2)\n",
            "Requirement already satisfied: wrapt in /usr/local/lib/python3.11/dist-packages (from smart-open>=1.8.1->gensim) (1.17.2)\n",
            "Requirement already satisfied: contourpy>=1.0.1 in /usr/local/lib/python3.11/dist-packages (from matplotlib->wordcloud) (1.3.2)\n",
            "Requirement already satisfied: cycler>=0.10 in /usr/local/lib/python3.11/dist-packages (from matplotlib->wordcloud) (0.12.1)\n",
            "Requirement already satisfied: fonttools>=4.22.0 in /usr/local/lib/python3.11/dist-packages (from matplotlib->wordcloud) (4.59.0)\n",
            "Requirement already satisfied: kiwisolver>=1.3.1 in /usr/local/lib/python3.11/dist-packages (from matplotlib->wordcloud) (1.4.8)\n",
            "Requirement already satisfied: packaging>=20.0 in /usr/local/lib/python3.11/dist-packages (from matplotlib->wordcloud) (25.0)\n",
            "Requirement already satisfied: pyparsing>=2.3.1 in /usr/local/lib/python3.11/dist-packages (from matplotlib->wordcloud) (3.2.3)\n",
            "Requirement already satisfied: iniconfig>=1 in /usr/local/lib/python3.11/dist-packages (from pytest->pyLDAvis==2.1.2) (2.1.0)\n",
            "Requirement already satisfied: pluggy<2,>=1.5 in /usr/local/lib/python3.11/dist-packages (from pytest->pyLDAvis==2.1.2) (1.6.0)\n",
            "Requirement already satisfied: pygments>=2.7.2 in /usr/local/lib/python3.11/dist-packages (from pytest->pyLDAvis==2.1.2) (2.19.2)\n",
            "Requirement already satisfied: six>=1.5 in /usr/local/lib/python3.11/dist-packages (from python-dateutil>=2.8.2->pandas>=0.17.0->pyLDAvis==2.1.2) (1.17.0)\n",
            "<frozen runpy>:128: RuntimeWarning: 'nltk.downloader' found in sys.modules after import of package 'nltk', but prior to execution of 'nltk.downloader'; this may result in unpredictable behaviour\n",
            "[nltk_data] Downloading package stopwords to /root/nltk_data...\n",
            "[nltk_data]   Package stopwords is already up-to-date!\n",
            "[nltk_data] Downloading package wordnet to /root/nltk_data...\n",
            "[nltk_data]   Package wordnet is already up-to-date!\n"
          ]
        }
      ],
      "source": [
        "!pip install gensim pyLDAvis==2.1.2 scikit-learn wordcloud\n",
        "!python -m nltk.downloader stopwords wordnet"
      ]
    },
    {
      "cell_type": "markdown",
      "source": [
        "**Data Loading and Preprocessing**"
      ],
      "metadata": {
        "id": "k5QJel5ZuzKS"
      }
    },
    {
      "cell_type": "code",
      "source": [
        "newsgroups = fetch_20newsgroups(subset='all', remove=('headers', 'footers', 'quotes'))\n",
        "documents = newsgroups.data\n",
        "print(f\"Number of documents: {len(documents)}\")"
      ],
      "metadata": {
        "colab": {
          "base_uri": "https://localhost:8080/"
        },
        "id": "xrLvOH4PKFJW",
        "outputId": "214ade50-40e4-4718-a60f-680a503ac1c4"
      },
      "execution_count": null,
      "outputs": [
        {
          "output_type": "stream",
          "name": "stdout",
          "text": [
            "Number of documents: 18846\n"
          ]
        }
      ]
    },
    {
      "cell_type": "code",
      "source": [
        "nltk.download('stopwords')\n",
        "nltk.download('wordnet')\n",
        "\n",
        "stop_words = set(stopwords.words('english'))\n",
        "lemmatizer = WordNetLemmatizer()\n",
        "\n",
        "def preprocess(text):\n",
        "    text = text.lower()\n",
        "    text = re.sub(r'[^a-z\\s]', '', text)\n",
        "    words = [lemmatizer.lemmatize(word) for word in text.split() if word not in stop_words]\n",
        "    return ' '.join(words)\n",
        "\n",
        "clean_docs = [preprocess(doc) for doc in documents]"
      ],
      "metadata": {
        "id": "rxDpWWnfKNPO",
        "colab": {
          "base_uri": "https://localhost:8080/"
        },
        "outputId": "c0a1bac1-666c-44a9-afde-fe67bb4d9239"
      },
      "execution_count": null,
      "outputs": [
        {
          "output_type": "stream",
          "name": "stderr",
          "text": [
            "[nltk_data] Downloading package stopwords to /root/nltk_data...\n",
            "[nltk_data]   Package stopwords is already up-to-date!\n",
            "[nltk_data] Downloading package wordnet to /root/nltk_data...\n",
            "[nltk_data]   Package wordnet is already up-to-date!\n"
          ]
        }
      ]
    },
    {
      "cell_type": "markdown",
      "source": [
        "**Feature Extraction**"
      ],
      "metadata": {
        "id": "NJCv2LcPvDpx"
      }
    },
    {
      "cell_type": "markdown",
      "source": [
        "For K-Means → TF-IDF"
      ],
      "metadata": {
        "id": "s0MfxcKrvEY6"
      }
    },
    {
      "cell_type": "code",
      "source": [
        "from sklearn.feature_extraction.text import TfidfVectorizer\n",
        "\n",
        "tfidf_vectorizer = TfidfVectorizer(max_df=0.95, min_df=2)\n",
        "tfidf = tfidf_vectorizer.fit_transform(clean_docs)"
      ],
      "metadata": {
        "id": "bO-fnI1BKVf2"
      },
      "execution_count": null,
      "outputs": []
    },
    {
      "cell_type": "markdown",
      "source": [
        "For LDA → Count Vectorizer"
      ],
      "metadata": {
        "id": "aXuNVkrOvINk"
      }
    },
    {
      "cell_type": "code",
      "source": [
        "from sklearn.feature_extraction.text import CountVectorizer\n",
        "\n",
        "count_vectorizer = CountVectorizer(max_df=0.95, min_df=2)\n",
        "count = count_vectorizer.fit_transform(clean_docs)"
      ],
      "metadata": {
        "id": "EE4s5KDwKaXO"
      },
      "execution_count": null,
      "outputs": []
    },
    {
      "cell_type": "markdown",
      "source": [
        "**K-Means Clustering**"
      ],
      "metadata": {
        "id": "1d3SWB39vM5g"
      }
    },
    {
      "cell_type": "code",
      "source": [
        "num_clusters = 20\n",
        "km = KMeans(n_clusters=num_clusters, random_state=42)\n",
        "km.fit(tfidf)\n",
        "\n",
        "clusters = km.labels_\n",
        "\n",
        "terms = tfidf_vectorizer.get_feature_names_out()\n",
        "for i in range(num_clusters):\n",
        "    top_terms = [terms[ind] for ind in km.cluster_centers_.argsort()[:, -10:][i]]\n",
        "    print(f\"Cluster {i}: {top_terms}\")"
      ],
      "metadata": {
        "colab": {
          "base_uri": "https://localhost:8080/"
        },
        "id": "69lidO8tKd20",
        "outputId": "3383000a-21d5-45dc-b7cf-392ecc0c047a"
      },
      "execution_count": null,
      "outputs": [
        {
          "output_type": "stream",
          "name": "stdout",
          "text": [
            "Cluster 0: ['portable', 'please', 'cmos', 'incorrectly', 'diagnostics', 'configuration', 'byte', 'machine', 'diskette', 'compaq']\n",
            "Cluster 1: ['assent', 'deny', 'god', 'alleged', 'church', 'lourdes', 'private', 'fatima', 'catholic', 'revelation']\n",
            "Cluster 2: ['berlin', 'ext', 'bit', 'sys', 'support', 'booting', 'card', 'enabler', 'mb', 'boot']\n",
            "Cluster 3: ['able', 'looking', 'called', 'youre', 'copy', 'check', 'exactly', 'checked', 'eric', 'pcxview']\n",
            "Cluster 4: ['time', 'im', 'think', 'people', 'dont', 'get', 'like', 'know', 'one', 'would']\n",
            "Cluster 5: ['god', 'spatout', 'believing', 'james', 'christian', 'lukewarm', 'deed', 'saved', 'roman', 'faith']\n",
            "Cluster 6: ['specious', 'sodomite', 'opinons', 'largeely', 'jude', 'homosexuality', 'angel', 'lust', 'sodom', 'flesh']\n",
            "Cluster 7: ['regularseason', 'nauseum', 'right', 'mr', 'president', 'cup', 'left', 'winner', 'middle', 'guy']\n",
            "Cluster 8: ['side', 'harmon', 'sommer', 'usrensetcorganization', 'harmonsgyrowvtekcom', 'steer', 'left', 'neck', 'horse', 'rein']\n",
            "Cluster 9: ['play', 'ball', 'litle', 'bosios', 'glove', 'final', 'fielded', 'barehanded', 'riles', 'vizquel']\n",
            "Cluster 10: ['relieve', 'trm', 'childbirth', 'flamage', 'talkabortion', 'prenatal', 'good', 'right', 'case', 'abortion']\n",
            "Cluster 11: ['salvation', 'written', 'punishable', 'people', 'chosen', 'israelite', 'jesus', 'pharisee', 'law', 'god']\n",
            "Cluster 12: ['number', 'read', 'company', 'try', 'pick', 'texas', 'dial', 'corpus', 'christi', 'phone']\n",
            "Cluster 13: ['also', 'theological', 'new', 'rectify', 'recommend', 'interpretationcommentary', 'faith', 'reading', 'christian', 'bible']\n",
            "Cluster 14: ['zionism', 'london', 'cancer', 'jew', 'identity', 'israeli', 'israel', 'yehoshua', 'jewish', 'diaspora']\n",
            "Cluster 15: ['gregg', 'seam', 'liu', 'admiral', 'mussina', 'much', 'blister', 'time', 'mcdonald', 'minor']\n",
            "Cluster 16: ['eugenic', 'disolved', 'graceful', 'strong', 'peace', 'israeli', 'nazi', 'society', 'jewish', 'human']\n",
            "Cluster 17: ['one', 'season', 'year', 'team', 'get', 'go', 'please', 'airline', 'game', 'ticket']\n",
            "Cluster 18: ['overlook', 'spokesperson', 'kook', 'shot', 'fbi', 'illegal', 'indicated', 'stated', 'tax', 'atf']\n",
            "Cluster 19: ['agency', 'mykotronx', 'level', 'interrogate', 'mask', 'examined', 'verified', 'design', 'chip', 'silicon']\n"
          ]
        }
      ]
    },
    {
      "cell_type": "markdown",
      "source": [
        "*LDA Topic Modeling*"
      ],
      "metadata": {
        "id": "5aELBSNNvQXc"
      }
    },
    {
      "cell_type": "code",
      "source": [
        "from sklearn.decomposition import LatentDirichletAllocation\n",
        "\n",
        "lda = LatentDirichletAllocation(n_components=20, random_state=42)\n",
        "lda.fit(count)\n",
        "\n",
        "terms = count_vectorizer.get_feature_names_out()\n",
        "for idx, topic in enumerate(lda.components_):\n",
        "    print(f\"Topic {idx}: \", [terms[i] for i in topic.argsort()[-10:]])"
      ],
      "metadata": {
        "colab": {
          "base_uri": "https://localhost:8080/"
        },
        "id": "PWvZjHO4QYi5",
        "outputId": "8dda3471-468a-4d7a-83f6-75acaa546ff0"
      },
      "execution_count": null,
      "outputs": [
        {
          "output_type": "stream",
          "name": "stdout",
          "text": [
            "Topic 0:  ['belief', 'say', 'believe', 'religion', 'christ', 'bible', 'one', 'christian', 'jesus', 'god']\n",
            "Topic 1:  ['use', 'circuit', 'battery', 'stephanopoulos', 'dont', 'ground', 'wire', 'mr', 'power', 'one']\n",
            "Topic 2:  ['software', 'also', 'get', 'system', 'version', 'image', 'use', 'program', 'window', 'file']\n",
            "Topic 3:  ['also', 'doctor', 'cancer', 'study', 'health', 'medical', 'drug', 'patient', 'disease', 'maxaxaxaxaxaxaxaxaxaxaxaxaxaxax']\n",
            "Topic 4:  ['one', 'last', 'hockey', 'season', 'would', 'db', 'year', 'player', 'team', 'game']\n",
            "Topic 5:  ['clipper', 'phone', 'weapon', 'use', 'government', 'law', 'chip', 'would', 'key', 'gun']\n",
            "Topic 6:  ['would', 'shuttle', 'moon', 'orbit', 'satellite', 'mission', 'launch', 'earth', 'system', 'space']\n",
            "Topic 7:  ['time', 'thing', 'say', 'like', 'know', 'think', 'one', 'dont', 'would', 'people']\n",
            "Topic 8:  ['general', 'privacy', 'university', 'administration', 'new', 'government', 'encryption', 'mr', 'technology', 'president']\n",
            "Topic 9:  ['bos', 'det', 'pp', 'new', 'van', 'pit', 'la', 'period', 'pt', 'st']\n",
            "Topic 10:  ['would', 'see', 'message', 'example', 'used', 'say', 'argument', 'use', 'key', 'one']\n",
            "Topic 11:  ['part', 'used', 'time', 'get', 'like', 'would', 'radio', 'cd', 'could', 'one']\n",
            "Topic 12:  ['may', 'please', 'one', 'email', 'would', 'homosexual', 'book', 'group', 'church', 'list']\n",
            "Topic 13:  ['mb', 'know', 'scsi', 'thanks', 'system', 'one', 'disk', 'would', 'card', 'drive']\n",
            "Topic 14:  ['back', 'got', 'good', 'think', 'like', 'time', 'game', 'one', 'year', 'get']\n",
            "Topic 15:  ['country', 'arab', 'law', 'israeli', 'people', 'would', 'israel', 'government', 'state', 'right']\n",
            "Topic 16:  ['center', 'conference', 'computer', 'university', 'available', 'information', 'research', 'image', 'data', 'file']\n",
            "Topic 17:  ['also', 'dont', 'get', 'engine', 'like', 'entry', 'would', 'one', 'bike', 'car']\n",
            "Topic 18:  ['information', 'los', 'angeles', 'lost', 'francisco', 'city', 'york', 'adl', 'new', 'san']\n",
            "Topic 19:  ['said', 'jew', 'turk', 'greek', 'turkey', 'russian', 'people', 'muslim', 'turkish', 'armenian']\n"
          ]
        }
      ]
    },
    {
      "cell_type": "markdown",
      "source": [
        "**Visualizations**"
      ],
      "metadata": {
        "id": "r7mIZ0JsvTBC"
      }
    },
    {
      "cell_type": "code",
      "source": [
        "from wordcloud import WordCloud\n",
        "import matplotlib.pyplot as plt\n",
        "\n",
        "def save_wordclouds(model, feature_names, n_top_words=10):\n",
        "    for idx, topic in enumerate(model.components_):\n",
        "        terms = [feature_names[i] for i in topic.argsort()[-n_top_words:]]\n",
        "        wc = WordCloud(width=800, height=400, background_color='white').generate(' '.join(terms))\n",
        "\n",
        "        plt.figure()\n",
        "        plt.imshow(wc, interpolation='bilinear')\n",
        "        plt.axis('off')\n",
        "        plt.title(f\"Topic {idx}\")\n",
        "\n",
        "        plt.savefig(f'wordcloud_topic_{idx}.png', bbox_inches='tight')\n",
        "        plt.close()\n",
        "\n",
        "save_wordclouds(lda, count_vectorizer.get_feature_names_out())\n",
        "\n"
      ],
      "metadata": {
        "id": "ESpdl9xJRGoL"
      },
      "execution_count": 64,
      "outputs": []
    },
    {
      "cell_type": "code",
      "source": [
        "!zip -r wordclouds.zip wordcloud_topic_*.png\n",
        "from google.colab import files\n",
        "files.download('wordclouds.zip')"
      ],
      "metadata": {
        "colab": {
          "base_uri": "https://localhost:8080/",
          "height": 364
        },
        "id": "wEu6g9FknjSs",
        "outputId": "13ec5475-044d-428d-f952-09921ae27ec0"
      },
      "execution_count": 65,
      "outputs": [
        {
          "output_type": "stream",
          "name": "stdout",
          "text": [
            "  adding: wordcloud_topic_0.png (deflated 1%)\n",
            "  adding: wordcloud_topic_10.png (deflated 1%)\n",
            "  adding: wordcloud_topic_11.png (deflated 1%)\n",
            "  adding: wordcloud_topic_12.png (deflated 1%)\n",
            "  adding: wordcloud_topic_13.png (deflated 1%)\n",
            "  adding: wordcloud_topic_14.png (deflated 1%)\n",
            "  adding: wordcloud_topic_15.png (deflated 1%)\n",
            "  adding: wordcloud_topic_16.png (deflated 1%)\n",
            "  adding: wordcloud_topic_17.png (deflated 1%)\n",
            "  adding: wordcloud_topic_18.png (deflated 1%)\n",
            "  adding: wordcloud_topic_19.png (deflated 1%)\n",
            "  adding: wordcloud_topic_1.png (deflated 1%)\n",
            "  adding: wordcloud_topic_2.png (deflated 1%)\n",
            "  adding: wordcloud_topic_3.png (deflated 1%)\n",
            "  adding: wordcloud_topic_4.png (deflated 1%)\n",
            "  adding: wordcloud_topic_5.png (deflated 1%)\n",
            "  adding: wordcloud_topic_6.png (deflated 1%)\n",
            "  adding: wordcloud_topic_7.png (deflated 1%)\n",
            "  adding: wordcloud_topic_8.png (deflated 1%)\n",
            "  adding: wordcloud_topic_9.png (deflated 1%)\n"
          ]
        },
        {
          "output_type": "display_data",
          "data": {
            "text/plain": [
              "<IPython.core.display.Javascript object>"
            ],
            "application/javascript": [
              "\n",
              "    async function download(id, filename, size) {\n",
              "      if (!google.colab.kernel.accessAllowed) {\n",
              "        return;\n",
              "      }\n",
              "      const div = document.createElement('div');\n",
              "      const label = document.createElement('label');\n",
              "      label.textContent = `Downloading \"${filename}\": `;\n",
              "      div.appendChild(label);\n",
              "      const progress = document.createElement('progress');\n",
              "      progress.max = size;\n",
              "      div.appendChild(progress);\n",
              "      document.body.appendChild(div);\n",
              "\n",
              "      const buffers = [];\n",
              "      let downloaded = 0;\n",
              "\n",
              "      const channel = await google.colab.kernel.comms.open(id);\n",
              "      // Send a message to notify the kernel that we're ready.\n",
              "      channel.send({})\n",
              "\n",
              "      for await (const message of channel.messages) {\n",
              "        // Send a message to notify the kernel that we're ready.\n",
              "        channel.send({})\n",
              "        if (message.buffers) {\n",
              "          for (const buffer of message.buffers) {\n",
              "            buffers.push(buffer);\n",
              "            downloaded += buffer.byteLength;\n",
              "            progress.value = downloaded;\n",
              "          }\n",
              "        }\n",
              "      }\n",
              "      const blob = new Blob(buffers, {type: 'application/binary'});\n",
              "      const a = document.createElement('a');\n",
              "      a.href = window.URL.createObjectURL(blob);\n",
              "      a.download = filename;\n",
              "      div.appendChild(a);\n",
              "      a.click();\n",
              "      div.remove();\n",
              "    }\n",
              "  "
            ]
          },
          "metadata": {}
        },
        {
          "output_type": "display_data",
          "data": {
            "text/plain": [
              "<IPython.core.display.Javascript object>"
            ],
            "application/javascript": [
              "download(\"download_e8b17801-6785-41b0-b89c-34d1e6711df1\", \"wordclouds.zip\", 1065130)"
            ]
          },
          "metadata": {}
        }
      ]
    },
    {
      "cell_type": "code",
      "source": [
        "import seaborn as sns\n",
        "import pandas as pd\n",
        "import matplotlib.pyplot as plt\n",
        "\n",
        "def plot_and_save_top_words(model, feature_names, n_top_words=10):\n",
        "    for idx, topic in enumerate(model.components_):\n",
        "        top_indices = topic.argsort()[-n_top_words:]\n",
        "        top_terms = [feature_names[i] for i in top_indices]\n",
        "        top_weights = topic[top_indices]\n",
        "\n",
        "        df = pd.DataFrame({'term': top_terms, 'weight': top_weights})\n",
        "        sns.barplot(x='weight', y='term', data=df)\n",
        "        plt.title(f\"Topic {idx}\")\n",
        "\n",
        "        plt.savefig(f'bargraph_topic_{idx}.png', bbox_inches='tight')\n",
        "        plt.close()\n",
        "\n",
        "plot_and_save_top_words(lda, count_vectorizer.get_feature_names_out())\n",
        "\n"
      ],
      "metadata": {
        "id": "Rsw9bKQ4RNeb"
      },
      "execution_count": 62,
      "outputs": []
    },
    {
      "cell_type": "code",
      "source": [
        "!zip -r bargraphs.zip bargraph_topic_*.png\n",
        "from google.colab import files\n",
        "files.download('bargraphs.zip')"
      ],
      "metadata": {
        "colab": {
          "base_uri": "https://localhost:8080/",
          "height": 364
        },
        "id": "lKD59FABnUTv",
        "outputId": "1b517e93-3ef5-45dc-a198-807098eea7ff"
      },
      "execution_count": 63,
      "outputs": [
        {
          "output_type": "stream",
          "name": "stdout",
          "text": [
            "  adding: bargraph_topic_0.png (deflated 18%)\n",
            "  adding: bargraph_topic_10.png (deflated 18%)\n",
            "  adding: bargraph_topic_11.png (deflated 18%)\n",
            "  adding: bargraph_topic_12.png (deflated 17%)\n",
            "  adding: bargraph_topic_13.png (deflated 17%)\n",
            "  adding: bargraph_topic_14.png (deflated 17%)\n",
            "  adding: bargraph_topic_15.png (deflated 17%)\n",
            "  adding: bargraph_topic_16.png (deflated 18%)\n",
            "  adding: bargraph_topic_17.png (deflated 17%)\n",
            "  adding: bargraph_topic_18.png (deflated 18%)\n",
            "  adding: bargraph_topic_19.png (deflated 17%)\n",
            "  adding: bargraph_topic_1.png (deflated 18%)\n",
            "  adding: bargraph_topic_2.png (deflated 17%)\n",
            "  adding: bargraph_topic_3.png (deflated 19%)\n",
            "  adding: bargraph_topic_4.png (deflated 17%)\n",
            "  adding: bargraph_topic_5.png (deflated 17%)\n",
            "  adding: bargraph_topic_6.png (deflated 18%)\n",
            "  adding: bargraph_topic_7.png (deflated 17%)\n",
            "  adding: bargraph_topic_8.png (deflated 17%)\n",
            "  adding: bargraph_topic_9.png (deflated 17%)\n"
          ]
        },
        {
          "output_type": "display_data",
          "data": {
            "text/plain": [
              "<IPython.core.display.Javascript object>"
            ],
            "application/javascript": [
              "\n",
              "    async function download(id, filename, size) {\n",
              "      if (!google.colab.kernel.accessAllowed) {\n",
              "        return;\n",
              "      }\n",
              "      const div = document.createElement('div');\n",
              "      const label = document.createElement('label');\n",
              "      label.textContent = `Downloading \"${filename}\": `;\n",
              "      div.appendChild(label);\n",
              "      const progress = document.createElement('progress');\n",
              "      progress.max = size;\n",
              "      div.appendChild(progress);\n",
              "      document.body.appendChild(div);\n",
              "\n",
              "      const buffers = [];\n",
              "      let downloaded = 0;\n",
              "\n",
              "      const channel = await google.colab.kernel.comms.open(id);\n",
              "      // Send a message to notify the kernel that we're ready.\n",
              "      channel.send({})\n",
              "\n",
              "      for await (const message of channel.messages) {\n",
              "        // Send a message to notify the kernel that we're ready.\n",
              "        channel.send({})\n",
              "        if (message.buffers) {\n",
              "          for (const buffer of message.buffers) {\n",
              "            buffers.push(buffer);\n",
              "            downloaded += buffer.byteLength;\n",
              "            progress.value = downloaded;\n",
              "          }\n",
              "        }\n",
              "      }\n",
              "      const blob = new Blob(buffers, {type: 'application/binary'});\n",
              "      const a = document.createElement('a');\n",
              "      a.href = window.URL.createObjectURL(blob);\n",
              "      a.download = filename;\n",
              "      div.appendChild(a);\n",
              "      a.click();\n",
              "      div.remove();\n",
              "    }\n",
              "  "
            ]
          },
          "metadata": {}
        },
        {
          "output_type": "display_data",
          "data": {
            "text/plain": [
              "<IPython.core.display.Javascript object>"
            ],
            "application/javascript": [
              "download(\"download_95e72161-efee-42a7-81be-5a373869d6a5\", \"bargraphs.zip\", 289730)"
            ]
          },
          "metadata": {}
        }
      ]
    },
    {
      "cell_type": "code",
      "source": [
        "import numpy as np\n",
        "\n",
        "top_n = 10\n",
        "top_words = [count_vectorizer.get_feature_names_out()[i] for i in lda.components_[0].argsort()[-top_n:]]\n",
        "heatmap_data = np.array([topic[lda.components_[0].argsort()[-top_n:]] for topic in lda.components_])\n",
        "\n",
        "sns.heatmap(heatmap_data, yticklabels=[f\"Topic {i}\" for i in range(lda.n_components)], xticklabels=top_words, cmap=\"YlGnBu\")\n",
        "plt.title(\"Heatmap of Topics vs Top Words\")\n",
        "\n",
        "plt.savefig('heatmap.png', bbox_inches='tight')\n",
        "\n",
        "from google.colab import files\n",
        "files.download('heatmap.png')\n",
        "\n",
        "plt.show()\n"
      ],
      "metadata": {
        "colab": {
          "base_uri": "https://localhost:8080/",
          "height": 498
        },
        "id": "ZGrCHV7aavPQ",
        "outputId": "78b3423a-2168-4eef-a109-8213d4241355"
      },
      "execution_count": 61,
      "outputs": [
        {
          "output_type": "display_data",
          "data": {
            "text/plain": [
              "<IPython.core.display.Javascript object>"
            ],
            "application/javascript": [
              "\n",
              "    async function download(id, filename, size) {\n",
              "      if (!google.colab.kernel.accessAllowed) {\n",
              "        return;\n",
              "      }\n",
              "      const div = document.createElement('div');\n",
              "      const label = document.createElement('label');\n",
              "      label.textContent = `Downloading \"${filename}\": `;\n",
              "      div.appendChild(label);\n",
              "      const progress = document.createElement('progress');\n",
              "      progress.max = size;\n",
              "      div.appendChild(progress);\n",
              "      document.body.appendChild(div);\n",
              "\n",
              "      const buffers = [];\n",
              "      let downloaded = 0;\n",
              "\n",
              "      const channel = await google.colab.kernel.comms.open(id);\n",
              "      // Send a message to notify the kernel that we're ready.\n",
              "      channel.send({})\n",
              "\n",
              "      for await (const message of channel.messages) {\n",
              "        // Send a message to notify the kernel that we're ready.\n",
              "        channel.send({})\n",
              "        if (message.buffers) {\n",
              "          for (const buffer of message.buffers) {\n",
              "            buffers.push(buffer);\n",
              "            downloaded += buffer.byteLength;\n",
              "            progress.value = downloaded;\n",
              "          }\n",
              "        }\n",
              "      }\n",
              "      const blob = new Blob(buffers, {type: 'application/binary'});\n",
              "      const a = document.createElement('a');\n",
              "      a.href = window.URL.createObjectURL(blob);\n",
              "      a.download = filename;\n",
              "      div.appendChild(a);\n",
              "      a.click();\n",
              "      div.remove();\n",
              "    }\n",
              "  "
            ]
          },
          "metadata": {}
        },
        {
          "output_type": "display_data",
          "data": {
            "text/plain": [
              "<IPython.core.display.Javascript object>"
            ],
            "application/javascript": [
              "download(\"download_5e89c623-46fb-49ec-a2e5-79ccece17520\", \"heatmap.png\", 40293)"
            ]
          },
          "metadata": {}
        },
        {
          "output_type": "display_data",
          "data": {
            "text/plain": [
              "<Figure size 640x480 with 2 Axes>"
            ],
            "image/png": "[encoded data removed]"
          },
          "metadata": {}
        }
      ]
    },
    {
      "cell_type": "markdown",
      "source": [
        "**Evaluation**"
      ],
      "metadata": {
        "id": "3iD1QvnyvY1n"
      }
    },
    {
      "cell_type": "code",
      "source": [
        "from sklearn.feature_extraction.text import TfidfVectorizer\n",
        "from sklearn.decomposition import TruncatedSVD\n",
        "from sklearn.cluster import KMeans\n",
        "from sklearn.metrics import silhouette_score\n",
        "import matplotlib.pyplot as plt\n",
        "import numpy as np\n",
        "\n",
        "print(\"Vectorizing text data using TF-IDF...\")\n",
        "vectorizer = TfidfVectorizer(stop_words='english', max_features=5000)\n",
        "tfidf_matrix = vectorizer.fit_transform(clean_docs)  # 'texts' = your list of documents\n",
        "\n",
        "print(f\"TF-IDF matrix shape: {tfidf_matrix.shape}\")\n",
        "\n",
        "print(\"Applying Truncated SVD for dimensionality reduction...\")\n",
        "svd = TruncatedSVD(n_components=100, random_state=42)\n",
        "reduced_data = svd.fit_transform(tfidf_matrix)\n",
        "\n",
        "print(f\"Reduced data shape: {reduced_data.shape}\")\n",
        "\n",
        "print(\"Calculating silhouette scores for different k values...\")\n",
        "silhouette_scores = []\n",
        "K = range(2, 21)\n",
        "\n",
        "for k in K:\n",
        "    kmeans = KMeans(n_clusters=k, random_state=42)\n",
        "    labels = kmeans.fit_predict(reduced_data)\n",
        "    score = silhouette_score(reduced_data, labels)\n",
        "    silhouette_scores.append(score)\n",
        "    print(f\"k={k}, silhouette score={score:.4f}\")\n",
        "\n",
        "plt.figure(figsize=(8, 5))\n",
        "plt.plot(K, silhouette_scores, marker='o')\n",
        "plt.title(\"Silhouette Score vs Number of Clusters\")\n",
        "plt.xlabel(\"Number of clusters (k)\")\n",
        "plt.ylabel(\"Silhouette Score\")\n",
        "plt.grid(True)\n",
        "plt.show()\n",
        "\n",
        "best_k = K[np.argmax(silhouette_scores)]\n",
        "print(f\"Best k based on silhouette score: {best_k}\")\n",
        "\n",
        "kmeans = KMeans(n_clusters=best_k, random_state=42)\n",
        "final_labels = kmeans.fit_predict(reduced_data)\n",
        "\n",
        "print(f\"Final Silhouette Score: {max(silhouette_scores):.4f}\")"
      ],
      "metadata": {
        "colab": {
          "base_uri": "https://localhost:8080/",
          "height": 938
        },
        "id": "PRBdmA0otI6C",
        "outputId": "917f5ac8-6624-461b-fff8-46a232edf587"
      },
      "execution_count": 68,
      "outputs": [
        {
          "output_type": "stream",
          "name": "stdout",
          "text": [
            "Vectorizing text data using TF-IDF...\n",
            "TF-IDF matrix shape: (18846, 5000)\n",
            "Applying Truncated SVD for dimensionality reduction...\n",
            "Reduced data shape: (18846, 100)\n",
            "Calculating silhouette scores for different k values...\n",
            "k=2, silhouette score=0.1385\n",
            "k=3, silhouette score=0.0490\n",
            "k=4, silhouette score=0.0430\n",
            "k=5, silhouette score=0.0359\n",
            "k=6, silhouette score=0.0382\n",
            "k=7, silhouette score=0.0413\n",
            "k=8, silhouette score=0.0534\n",
            "k=9, silhouette score=0.0552\n",
            "k=10, silhouette score=0.0520\n",
            "k=11, silhouette score=0.0544\n",
            "k=12, silhouette score=0.0562\n",
            "k=13, silhouette score=0.0543\n",
            "k=14, silhouette score=0.0576\n",
            "k=15, silhouette score=0.0573\n",
            "k=16, silhouette score=0.0598\n",
            "k=17, silhouette score=0.0666\n",
            "k=18, silhouette score=0.0657\n",
            "k=19, silhouette score=0.0672\n",
            "k=20, silhouette score=0.0690\n"
          ]
        },
        {
          "output_type": "display_data",
          "data": {
            "text/plain": [
              "<Figure size 800x500 with 1 Axes>"
            ],
            "image/png": "[encoded data removed]"
          },
          "metadata": {}
        },
        {
          "output_type": "stream",
          "name": "stdout",
          "text": [
            "Best k based on silhouette score: 2\n",
            "Final Silhouette Score: 0.1385\n"
          ]
        }
      ]
    }
  ]
}